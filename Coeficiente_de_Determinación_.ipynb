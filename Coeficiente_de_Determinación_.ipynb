{
  "nbformat": 4,
  "nbformat_minor": 0,
  "metadata": {
    "colab": {
      "name": "Coeficiente de Determinación .ipynb",
      "provenance": [],
      "authorship_tag": "ABX9TyPtK0cRnX1pPT45SD6JlOsx",
      "include_colab_link": true
    },
    "kernelspec": {
      "name": "python3",
      "display_name": "Python 3"
    },
    "language_info": {
      "name": "python"
    }
  },
  "cells": [
    {
      "cell_type": "markdown",
      "metadata": {
        "id": "view-in-github",
        "colab_type": "text"
      },
      "source": [
        "<a href=\"https://colab.research.google.com/github/Katherine99h/Inteligencia-Artificial/blob/main/Coeficiente_de_Determinaci%C3%B3n_.ipynb\" target=\"_parent\"><img src=\"https://colab.research.google.com/assets/colab-badge.svg\" alt=\"Open In Colab\"/></a>"
      ]
    },
    {
      "cell_type": "code",
      "metadata": {
        "id": "3oHyvUtSMkiQ"
      },
      "source": [
        "# Import libraries \n",
        "from matplotlib import pyplot as plt\n",
        "import numpy as np"
      ],
      "execution_count": 1,
      "outputs": []
    },
    {
      "cell_type": "code",
      "metadata": {
        "id": "WJ73KqkiMrdU"
      },
      "source": [
        "# Calculate the linear regression hypothesis\n",
        "def hypothesis(theta_0, theta_1, x):\n",
        "    return theta_0 + theta_1*x"
      ],
      "execution_count": 2,
      "outputs": []
    },
    {
      "cell_type": "code",
      "metadata": {
        "id": "dxOMFZgnMvPV"
      },
      "source": [
        "# Calculate cost function\n",
        "def cost_v2(parameters, features, labels):\n",
        "    j = ((hypothesis(parameters[0], parameters[1], features)-labels)**2)\n",
        "    return np.sum(j)/(2*len(features));"
      ],
      "execution_count": 3,
      "outputs": []
    },
    {
      "cell_type": "code",
      "metadata": {
        "id": "hbjFh_DDMw3g"
      },
      "source": [
        "#  Calculate parameters\n",
        "def grid_search_parameters(features, labels):\n",
        "    # Variable creation for calculate parameters theta 0 and theta 1 in grid search\n",
        "    min_j, min_aux, theta_0_min, theta_1_min = 99999, 0, 0, 0\n",
        "    for i in np.arange(-3,3,0.01):\n",
        "        for j in np.arange(-3,3,0.01):\n",
        "            min_aux = cost_v2(np.array([i, j]),features,labels)\n",
        "            if(min_aux < min_j):\n",
        "                min_j, theta_0_min, theta_1_min = min_aux, i, j\n",
        "    return np.array([theta_0_min, theta_1_min])"
      ],
      "execution_count": 6,
      "outputs": []
    },
    {
      "cell_type": "code",
      "metadata": {
        "id": "G6gS93poMy9q"
      },
      "source": [
        "# Variables\n",
        "features = np.arange(1,6.5,0.5)\n",
        "labels = np.array([0.169610271922408, 0.283395812542308, 0.386358737510785, 0.470227872390909, 0.433281293764675, 0.600267648212653, 0.738338980436742, 0.790315020494445, 0.877464268422459, 0.84356446225183, 0.96443891694455],float)"
      ],
      "execution_count": 18,
      "outputs": []
    },
    {
      "cell_type": "code",
      "metadata": {
        "id": "qZ7X2kywM1Fy",
        "colab": {
          "base_uri": "https://localhost:8080/"
        },
        "outputId": "bbd1b758-2a7a-424f-c22f-c081fdffe7ce"
      },
      "source": [
        "# Calculate parameters\n",
        "theta = grid_search_parameters(features, labels)\n",
        "# Theta 0 and theta 1 are displayed calculated\n",
        "print(\"theta_0:\", theta[0],\"thetha_1:\", theta[1], \"Funcion de costo =\",cost_v2(theta, features, labels))"
      ],
      "execution_count": 19,
      "outputs": [
        {
          "output_type": "stream",
          "name": "stdout",
          "text": [
            "theta_0: 0.0399999999999352 thetha_1: 0.15999999999993264 Funcion de costo = 0.0010407623021767825\n"
          ]
        }
      ]
    },
    {
      "cell_type": "code",
      "metadata": {
        "id": "Seet2o5SM2if"
      },
      "source": [
        "# Test the linea regression\n",
        "labels_estimator = np.array([]);\n",
        "\n",
        "for i in features:\n",
        "    labels_estimator = np.append(labels_estimator, hypothesis(theta[0], theta[1], i))"
      ],
      "execution_count": 9,
      "outputs": []
    },
    {
      "cell_type": "code",
      "metadata": {
        "id": "f4cNab92M4C2",
        "colab": {
          "base_uri": "https://localhost:8080/",
          "height": 295
        },
        "outputId": "3bf8efe5-50c3-4a3b-aa09-bdaee1c56eec"
      },
      "source": [
        "\n",
        "plt.plot(features,labels) # Plot labels vs features\n",
        "plt.plot(features,labels_estimator) # Plot labels_estimator vs features\n",
        "plt.xlabel('Voltage(V)') # Set x label\n",
        "plt.ylabel(' Current(A)') # Set y label\n",
        "plt.title('Regresión Lineal') # Set title\n",
        "plt.grid() # On grid\n"
      ],
      "execution_count": 14,
      "outputs": [
        {
          "output_type": "display_data",
          "data": {
            "image/png": "[encoded data removed]",
            "text/plain": [
              "<Figure size 432x288 with 1 Axes>"
            ]
          },
          "metadata": {
            "needs_background": "light"
          }
        }
      ]
    },
    {
      "cell_type": "code",
      "metadata": {
        "id": "YHp9SnQ6M57o",
        "colab": {
          "base_uri": "https://localhost:8080/"
        },
        "outputId": "6b02c7b0-bf04-432f-a3d5-9e9ac6c67f03"
      },
      "source": [
        "#  Calculate coefficient of determination\n",
        "def r_square(y, y_estimator):\n",
        "    rss = np.sum((labels - labels_estimator)**2)\n",
        "    prom_labels_estimator = np.mean(labels_estimator)\n",
        "    tss = np.sum((labels - prom_labels_estimator)**2)\n",
        "    r_two = 1 - (rss/tss)\n",
        "    return r_two\n",
        "\n",
        "print(\"Coeficiente de determinación:\", r_square(labels,labels_estimator))"
      ],
      "execution_count": 11,
      "outputs": [
        {
          "output_type": "stream",
          "name": "stdout",
          "text": [
            "Coeficiente de determinación: 0.967301323490383\n"
          ]
        }
      ]
    }
  ]
}