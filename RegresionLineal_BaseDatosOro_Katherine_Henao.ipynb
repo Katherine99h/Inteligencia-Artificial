{
  "nbformat": 4,
  "nbformat_minor": 0,
  "metadata": {
    "colab": {
      "name": "Untitled0.ipynb",
      "provenance": [],
      "authorship_tag": "ABX9TyMdPj1B66aITjYDMAXlxnIV",
      "include_colab_link": true
    },
    "kernelspec": {
      "name": "python3",
      "display_name": "Python 3"
    },
    "language_info": {
      "name": "python"
    }
  },
  "cells": [
    {
      "cell_type": "markdown",
      "metadata": {
        "id": "view-in-github",
        "colab_type": "text"
      },
      "source": [
        "<a href=\"https://colab.research.google.com/github/Katherine99h/Inteligencia-Artificial/blob/main/RegresionLineal_BaseDatosOro_Katherine_Henao.ipynb\" target=\"_parent\"><img src=\"https://colab.research.google.com/assets/colab-badge.svg\" alt=\"Open In Colab\"/></a>"
      ]
    },
    {
      "cell_type": "code",
      "metadata": {
        "id": "8qgbOuyT9dA0"
      },
      "source": [
        "# Imports of the necessary libraries are carried out\n",
        "import pandas as pd\n",
        "import numpy as np\n",
        "from matplotlib import pyplot as plt\n",
        "from mpl_toolkits.mplot3d import Axes3D"
      ],
      "execution_count": 1,
      "outputs": []
    },
    {
      "cell_type": "code",
      "metadata": {
        "colab": {
          "base_uri": "https://localhost:8080/",
          "height": 317
        },
        "id": "W4eyGgIi9mrV",
        "outputId": "dd0c9475-edd8-45ff-f60e-d4526a71b934"
      },
      "source": [
        "dataframeGold = pd.read_csv('gold_price_data.csv') # data from https://www.kaggle.com/arashnic/learn-time-series-forecasting-from-gold-price\n",
        "print(dataframeGold.columns)\n",
        "dataframeGold.describe()"
      ],
      "execution_count": 3,
      "outputs": [
        {
          "output_type": "stream",
          "text": [
            "Index(['Date', 'Value'], dtype='object')\n"
          ],
          "name": "stdout"
        },
        {
          "output_type": "execute_result",
          "data": {
            "text/html": [
              "<div>\n",
              "<style scoped>\n",
              "    .dataframe tbody tr th:only-of-type {\n",
              "        vertical-align: middle;\n",
              "    }\n",
              "\n",
              "    .dataframe tbody tr th {\n",
              "        vertical-align: top;\n",
              "    }\n",
              "\n",
              "    .dataframe thead th {\n",
              "        text-align: right;\n",
              "    }\n",
              "</style>\n",
              "<table border=\"1\" class=\"dataframe\">\n",
              "  <thead>\n",
              "    <tr style=\"text-align: right;\">\n",
              "      <th></th>\n",
              "      <th>Value</th>\n",
              "    </tr>\n",
              "  </thead>\n",
              "  <tbody>\n",
              "    <tr>\n",
              "      <th>count</th>\n",
              "      <td>10787.000000</td>\n",
              "    </tr>\n",
              "    <tr>\n",
              "      <th>mean</th>\n",
              "      <td>653.596634</td>\n",
              "    </tr>\n",
              "    <tr>\n",
              "      <th>std</th>\n",
              "      <td>434.030848</td>\n",
              "    </tr>\n",
              "    <tr>\n",
              "      <th>min</th>\n",
              "      <td>35.100000</td>\n",
              "    </tr>\n",
              "    <tr>\n",
              "      <th>25%</th>\n",
              "      <td>349.200000</td>\n",
              "    </tr>\n",
              "    <tr>\n",
              "      <th>50%</th>\n",
              "      <td>409.350000</td>\n",
              "    </tr>\n",
              "    <tr>\n",
              "      <th>75%</th>\n",
              "      <td>1061.625000</td>\n",
              "    </tr>\n",
              "    <tr>\n",
              "      <th>max</th>\n",
              "      <td>1895.000000</td>\n",
              "    </tr>\n",
              "  </tbody>\n",
              "</table>\n",
              "</div>"
            ],
            "text/plain": [
              "              Value\n",
              "count  10787.000000\n",
              "mean     653.596634\n",
              "std      434.030848\n",
              "min       35.100000\n",
              "25%      349.200000\n",
              "50%      409.350000\n",
              "75%     1061.625000\n",
              "max     1895.000000"
            ]
          },
          "metadata": {},
          "execution_count": 3
        }
      ]
    },
    {
      "cell_type": "code",
      "metadata": {
        "colab": {
          "base_uri": "https://localhost:8080/",
          "height": 415
        },
        "id": "PEW3Hbw39pUi",
        "outputId": "cd627d1a-ae97-4163-fd1a-9128a8365dd1"
      },
      "source": [
        "\n",
        "print(dataframeGold.dtypes)\n",
        "dataframeGold.head(10)"
      ],
      "execution_count": 4,
      "outputs": [
        {
          "output_type": "stream",
          "text": [
            "Date      object\n",
            "Value    float64\n",
            "dtype: object\n"
          ],
          "name": "stdout"
        },
        {
          "output_type": "execute_result",
          "data": {
            "text/html": [
              "<div>\n",
              "<style scoped>\n",
              "    .dataframe tbody tr th:only-of-type {\n",
              "        vertical-align: middle;\n",
              "    }\n",
              "\n",
              "    .dataframe tbody tr th {\n",
              "        vertical-align: top;\n",
              "    }\n",
              "\n",
              "    .dataframe thead th {\n",
              "        text-align: right;\n",
              "    }\n",
              "</style>\n",
              "<table border=\"1\" class=\"dataframe\">\n",
              "  <thead>\n",
              "    <tr style=\"text-align: right;\">\n",
              "      <th></th>\n",
              "      <th>Date</th>\n",
              "      <th>Value</th>\n",
              "    </tr>\n",
              "  </thead>\n",
              "  <tbody>\n",
              "    <tr>\n",
              "      <th>0</th>\n",
              "      <td>1970-01-01</td>\n",
              "      <td>35.2</td>\n",
              "    </tr>\n",
              "    <tr>\n",
              "      <th>1</th>\n",
              "      <td>1970-04-01</td>\n",
              "      <td>35.1</td>\n",
              "    </tr>\n",
              "    <tr>\n",
              "      <th>2</th>\n",
              "      <td>1970-07-01</td>\n",
              "      <td>35.4</td>\n",
              "    </tr>\n",
              "    <tr>\n",
              "      <th>3</th>\n",
              "      <td>1970-10-01</td>\n",
              "      <td>36.2</td>\n",
              "    </tr>\n",
              "    <tr>\n",
              "      <th>4</th>\n",
              "      <td>1971-01-01</td>\n",
              "      <td>37.4</td>\n",
              "    </tr>\n",
              "    <tr>\n",
              "      <th>5</th>\n",
              "      <td>1971-04-01</td>\n",
              "      <td>38.9</td>\n",
              "    </tr>\n",
              "    <tr>\n",
              "      <th>6</th>\n",
              "      <td>1971-07-01</td>\n",
              "      <td>40.1</td>\n",
              "    </tr>\n",
              "    <tr>\n",
              "      <th>7</th>\n",
              "      <td>1971-10-01</td>\n",
              "      <td>42.0</td>\n",
              "    </tr>\n",
              "    <tr>\n",
              "      <th>8</th>\n",
              "      <td>1972-01-03</td>\n",
              "      <td>43.5</td>\n",
              "    </tr>\n",
              "    <tr>\n",
              "      <th>9</th>\n",
              "      <td>1972-04-03</td>\n",
              "      <td>48.3</td>\n",
              "    </tr>\n",
              "  </tbody>\n",
              "</table>\n",
              "</div>"
            ],
            "text/plain": [
              "         Date  Value\n",
              "0  1970-01-01   35.2\n",
              "1  1970-04-01   35.1\n",
              "2  1970-07-01   35.4\n",
              "3  1970-10-01   36.2\n",
              "4  1971-01-01   37.4\n",
              "5  1971-04-01   38.9\n",
              "6  1971-07-01   40.1\n",
              "7  1971-10-01   42.0\n",
              "8  1972-01-03   43.5\n",
              "9  1972-04-03   48.3"
            ]
          },
          "metadata": {},
          "execution_count": 4
        }
      ]
    },
    {
      "cell_type": "code",
      "metadata": {
        "colab": {
          "base_uri": "https://localhost:8080/"
        },
        "id": "BMnvFM7s916c",
        "outputId": "1ffd6241-855a-45a7-ca01-be423d6583e1"
      },
      "source": [
        "etiqueta = np.array(dataframeGold['Value'])[2:]\n",
        "car_m1 = np.array(dataframeGold['Value'])[1:-1]\n",
        "car_m2 = np.array(dataframeGold['Value'])[:-2]\n",
        "print(len(etiqueta))\n",
        "print(len(car_m1))\n",
        "print(len(car_m2))"
      ],
      "execution_count": 5,
      "outputs": [
        {
          "output_type": "stream",
          "text": [
            "10785\n",
            "10785\n",
            "10785\n"
          ],
          "name": "stdout"
        }
      ]
    },
    {
      "cell_type": "code",
      "metadata": {
        "colab": {
          "base_uri": "https://localhost:8080/"
        },
        "id": "iyHLxenL93_f",
        "outputId": "2c77e5ca-5d6f-4e2d-fe34-a5b983667d75"
      },
      "source": [
        "## Agrupando los datos en un único Dataframe y exportándolo a un archivo CSV\n",
        "dataset = pd.DataFrame({'Carac menos 2':car_m2, 'Carac menos 1':car_m1, 'Etiqueta':etiqueta})\n",
        "dataset.to_csv('goldPriceArranged.csv')\n",
        "dataset['Carac menos 1']"
      ],
      "execution_count": 6,
      "outputs": [
        {
          "output_type": "execute_result",
          "data": {
            "text/plain": [
              "0          35.10\n",
              "1          35.40\n",
              "2          36.20\n",
              "3          37.40\n",
              "4          38.90\n",
              "          ...   \n",
              "10780    1683.65\n",
              "10781    1672.50\n",
              "10782    1655.70\n",
              "10783    1653.75\n",
              "10784    1570.70\n",
              "Name: Carac menos 1, Length: 10785, dtype: float64"
            ]
          },
          "metadata": {},
          "execution_count": 6
        }
      ]
    },
    {
      "cell_type": "code",
      "metadata": {
        "colab": {
          "base_uri": "https://localhost:8080/"
        },
        "id": "OcxraQdU957P",
        "outputId": "76ed861a-0735-45d1-95c0-1515c7d3d3e1"
      },
      "source": [
        "\n",
        "## Pasando los datos a una matriz de tipo numpy\n",
        "matrizDatos = dataset.to_numpy()\n",
        "print(matrizDatos.shape)\n",
        "print(matrizDatos)\n",
        "print(matrizDatos[0][2])"
      ],
      "execution_count": 7,
      "outputs": [
        {
          "output_type": "stream",
          "text": [
            "(10785, 3)\n",
            "[[  35.2    35.1    35.4 ]\n",
            " [  35.1    35.4    36.2 ]\n",
            " [  35.4    36.2    37.4 ]\n",
            " ...\n",
            " [1672.5  1655.7  1653.75]\n",
            " [1655.7  1653.75 1570.7 ]\n",
            " [1653.75 1570.7  1562.8 ]]\n",
            "35.4\n"
          ],
          "name": "stdout"
        }
      ]
    },
    {
      "cell_type": "markdown",
      "metadata": {
        "id": "8mPcMgKq-BbK"
      },
      "source": [
        "Entrenamiento regresión lineal"
      ]
    },
    {
      "cell_type": "code",
      "metadata": {
        "id": "IjrEhlvN-FNZ"
      },
      "source": [
        "#   Function: hypothesis_gold() \n",
        "#   Purpose: Calculate the linear regression hypothesis for gold data-set\n",
        "#   hypothesis: h(x) = theta_0*x0 + theta_1*x1\n",
        "#   Argument:\n",
        "#       theta_0: Parameter theta 0\n",
        "#       theta_1: Parameter theta 1\n",
        "#       x0: evaluated feature one\n",
        "#       x1: evaluated feature two\n",
        "#   Return:\n",
        "#    features   hypothesis of lineal regression\n",
        "def hypothesis_gold(theta_0, theta_1, x0, x1):\n",
        "    return theta_0*x0 + theta_1*x1"
      ],
      "execution_count": 8,
      "outputs": []
    },
    {
      "cell_type": "code",
      "metadata": {
        "id": "huQiLdQ9-Hm1"
      },
      "source": [
        "#   Function: cost_gold() \n",
        "#   Purpose: Calculate cost function for gold data-set\n",
        "#   Argument:\n",
        "#       parameters: Array with parameters theta 0 and theta 1\n",
        "#       features: Array with features of data-set\n",
        "#       labels: Array with labels of data-set\n",
        "#   Return:\n",
        "#       Value of cost function\n",
        "def cost_gold(parameters, features0, features1, labels):\n",
        "    j = ((hypothesis_gold(parameters[0], parameters[1], features0, features1)-labels)**2)\n",
        "    return np.sum(j)/(2*len(features0));"
      ],
      "execution_count": 10,
      "outputs": []
    },
    {
      "cell_type": "code",
      "metadata": {
        "id": "YV_3EUwa-J22"
      },
      "source": [
        "#   Function: grid_search_parameters_gold() \n",
        "#   Purpose: Calculate parameters theta 0 and theta 1 in grid search for gold data-set\n",
        "#   Argument:\n",
        "#       features0: Array with features one of data-set\n",
        "#       features1: Array with features two of data-set\n",
        "#       labels: Array with labels of data-set\n",
        "#   Return:\n",
        "#       Array with parameters theta 0 and theta 1\n",
        "def grid_search_parameters_gold(features0, features1, labels):\n",
        "    # Variable creation for calculate parameters theta 0 and theta 1 in grid search\n",
        "    min_j, min_aux, theta_0_min, theta_1_min = 99999, 0, 0, 0\n",
        "    for i in np.arange(-2,2,0.1):\n",
        "        for j in np.arange(-2,2,0.1):\n",
        "            min_aux = cost_gold(np.array([i, j]),features0, features1, labels)\n",
        "            if(min_aux < min_j):\n",
        "                min_j, theta_0_min, theta_1_min = min_aux, i, j\n",
        "    return np.array([theta_0_min, theta_1_min])"
      ],
      "execution_count": 9,
      "outputs": []
    },
    {
      "cell_type": "code",
      "metadata": {
        "colab": {
          "base_uri": "https://localhost:8080/"
        },
        "id": "tSO-H0FR-MAQ",
        "outputId": "856d0d37-009f-416b-dbae-55e30590a2c1"
      },
      "source": [
        "\n",
        "# data \n",
        "features0 = dataset['Carac menos 2']\n",
        "features1 = dataset['Carac menos 1']\n",
        "labels = dataset['Etiqueta']\n",
        "\n",
        "# Calculate parameters theta 0 and theta 1 in grid search\n",
        "theta = grid_search_parameters_gold(features0, features1, labels)\n",
        "# Theta 0 and theta 1 are displayed calculated\n",
        "print(\"theta_0:\", theta[0],\"thetha_1:\", theta[1], \"Funcion de costo =\",cost_gold(theta, features0, features1, labels))"
      ],
      "execution_count": 11,
      "outputs": [
        {
          "output_type": "stream",
          "text": [
            "theta_0: 1.7763568394002505e-15 thetha_1: 1.0000000000000027 Funcion de costo = 40.808982642558796\n"
          ],
          "name": "stdout"
        }
      ]
    },
    {
      "cell_type": "code",
      "metadata": {
        "id": "oUKK0UK8-Ot4"
      },
      "source": [
        "# Test the linea regression with theta 0 and theta 1 calculated\n",
        "labels_estimator = np.array([]);\n",
        "\n",
        "for i, j in zip(features0,features1):\n",
        "    labels_estimator = np.append(labels_estimator, hypothesis_gold(theta[0], theta[1], i, j))"
      ],
      "execution_count": 12,
      "outputs": []
    },
    {
      "cell_type": "code",
      "metadata": {
        "colab": {
          "base_uri": "https://localhost:8080/",
          "height": 248
        },
        "id": "FS92cW-P-Q2K",
        "outputId": "f9187c1d-0a6d-4065-f276-948e5387af51"
      },
      "source": [
        "# Features are graphed with dataset labels and estimates\n",
        "fig = plt.figure()\n",
        "ax = fig.add_subplot(projection='3d')\n",
        "ax.scatter(features0, features1, labels, label='Datos') # Plot labels vs features1 vs features0\n",
        "ax.scatter(features0, features1, labels_estimator, label='Datos') # Plot labels_estimator vs features1 vs features0\n",
        "plt.xlabel('Features 0: Features minus 2') # Set x label\n",
        "plt.ylabel('Features 1: Features minus 1') # Set y label\n",
        "plt.title('Lineal Regression: Gold value') # Set title\n",
        "plt.show() # Show graph"
      ],
      "execution_count": 13,
      "outputs": [
        {
          "output_type": "display_data",
          "data": {
            "image/png": "[encoded data removed]",
            "text/plain": [
              "<Figure size 432x288 with 1 Axes>"
            ]
          },
          "metadata": {
            "needs_background": "light"
          }
        }
      ]
    }
  ]
}